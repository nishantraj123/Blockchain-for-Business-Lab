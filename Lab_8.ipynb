{
  "nbformat": 4,
  "nbformat_minor": 0,
  "metadata": {
    "colab": {
      "name": "Lab-8.ipynb",
      "provenance": [],
      "authorship_tag": "ABX9TyP6NldDchWpzhnHH+TALgpa",
      "include_colab_link": true
    },
    "kernelspec": {
      "name": "python3",
      "display_name": "Python 3"
    },
    "language_info": {
      "name": "python"
    }
  },
  "cells": [
    {
      "cell_type": "markdown",
      "metadata": {
        "id": "view-in-github",
        "colab_type": "text"
      },
      "source": [
        "<a href=\"https://colab.research.google.com/github/nishantraj123/Blockchain-for-Business-Lab/blob/main/Lab_8.ipynb\" target=\"_parent\"><img src=\"https://colab.research.google.com/assets/colab-badge.svg\" alt=\"Open In Colab\"/></a>"
      ]
    },
    {
      "cell_type": "code",
      "execution_count": 30,
      "metadata": {
        "colab": {
          "base_uri": "https://localhost:8080/"
        },
        "id": "RLlRicMc-fmq",
        "outputId": "bb180c07-9ba9-4152-fab3-2fbf3aea30e0"
      },
      "outputs": [
        {
          "output_type": "stream",
          "name": "stdout",
          "text": [
            "What is your name,\n"
          ]
        }
      ],
      "source": [
        "f=open(\"file1.txt\",\"w\")\n",
        "f.write(\"What is your name,\")\n",
        "f.close()\n",
        "f=open(\"file1.txt\",\"r\")\n",
        "print(f.read())"
      ]
    },
    {
      "cell_type": "code",
      "source": [
        "f=open(\"file2.txt\",\"w\")\n",
        "f.write(\"How are you,\")\n",
        "f.close()\n",
        "f=open(\"file2.txt\",\"r\")\n",
        "print(f.read())"
      ],
      "metadata": {
        "id": "BnILQh38-mPf"
      },
      "execution_count": null,
      "outputs": []
    },
    {
      "cell_type": "code",
      "source": [
        "f=open(\"file3.txt\",\"w\")\n",
        "f.write(\"What are you doing?\")\n",
        "f.close()\n",
        "f=open(\"file3.txt\",\"r\")\n",
        "print(f.read())"
      ],
      "metadata": {
        "colab": {
          "base_uri": "https://localhost:8080/"
        },
        "id": "vWO2ARxR-8-9",
        "outputId": "7a6f05d1-a686-493b-8b96-ecb22494f6b7"
      },
      "execution_count": 32,
      "outputs": [
        {
          "output_type": "stream",
          "name": "stdout",
          "text": [
            "What are you doing?\n"
          ]
        }
      ]
    },
    {
      "cell_type": "code",
      "source": [
        "f=open(\"file4.txt\",\"w\")\n",
        "f.write(\"What is your university name\")\n",
        "f.close()\n",
        "f=open(\"file4.txt\",\"r\")\n",
        "print(f.read())"
      ],
      "metadata": {
        "colab": {
          "base_uri": "https://localhost:8080/"
        },
        "id": "IYaXq2CO_HtX",
        "outputId": "1363bc38-fa90-4280-90d0-9cbab564cb7c"
      },
      "execution_count": 33,
      "outputs": [
        {
          "output_type": "stream",
          "name": "stdout",
          "text": [
            "What is your university name\n"
          ]
        }
      ]
    },
    {
      "cell_type": "code",
      "source": [
        "f=open(\"file5.txt\",\"w\")\n",
        "f.write(\"What is your university nirf ranking\")\n",
        "f.close()\n",
        "f=open(\"file5.txt\",\"r\")\n",
        "print(f.read())"
      ],
      "metadata": {
        "colab": {
          "base_uri": "https://localhost:8080/"
        },
        "id": "nNRa5xBx_tmn",
        "outputId": "afb73e53-b608-4011-d18c-2bc7ce7e7d0e"
      },
      "execution_count": 36,
      "outputs": [
        {
          "output_type": "stream",
          "name": "stdout",
          "text": [
            "What is your university nirf ranking\n"
          ]
        }
      ]
    },
    {
      "cell_type": "code",
      "source": [
        "import hashlib\n",
        "hash_list=[]\n",
        "f = open(\"file1.txt\",\"r\")\n",
        "contents = f.readline()\n",
        "print(contents)\n",
        "message = contents.encode()\n",
        "hash_list.append(hashlib.sha256(message).hexdigest())\n",
        "# print(hash_list)\n",
        "# hashing the file 2\n",
        "f = open(\"file2.txt\",\"r\")\n",
        "contents = f.readline()\n",
        "print(contents)\n",
        "message = contents.encode()\n",
        "hash_list.append(hashlib.sha256(message).hexdigest())\n",
        "# print(hash_list)\n",
        "#hashing the file 3\n",
        "f = open(\"file3.txt\",\"r\")\n",
        "contents = f.readline()\n",
        "print(contents)\n",
        "message = contents.encode()\n",
        "hash_list.append(hashlib.sha256(message).hexdigest())\n",
        "# print(hash_list)\n",
        "#hashing the file 4\n",
        "f = open(\"file4.txt\",\"r\")\n",
        "contents = f.readline()\n",
        "print(contents)\n",
        "message = contents.encode()\n",
        "hash_list.append(hashlib.sha256(message).hexdigest())\n",
        "# print(hash_list)\n",
        "#hashing the file 5\n",
        "f = open(\"file5.txt\",\"r\")\n",
        "contents = f.readline()\n",
        "print(contents)\n",
        "message = contents.encode()\n",
        "hash_list.append(hashlib.sha256(message).hexdigest())\n",
        "print(hash_list)\n",
        "size = len(hash_list)\n",
        "print (size)\n",
        "i = 0\n",
        "while i < size :\n",
        "  j = i+1\n",
        "  while j < size:\n",
        "    if(hash_list[i]==hash_list[j]):\n",
        "      print(\"file\",i+1,\"=\",\"file\",j+1)\n",
        "    j+=1\n",
        "  i+=1\n",
        "  \n",
        "print(\"End of the  program\")"
      ],
      "metadata": {
        "colab": {
          "base_uri": "https://localhost:8080/"
        },
        "id": "bwZDMeGBN_0Y",
        "outputId": "1056ce73-0b76-4b70-b042-c989e29d8980"
      },
      "execution_count": 37,
      "outputs": [
        {
          "output_type": "stream",
          "name": "stdout",
          "text": [
            "What is your name,\n",
            "How are you,\n",
            "What are you doing?\n",
            "What is your university name\n",
            "What is your university nirf ranking\n",
            "['3819d16c06dd1164dc8f02c34a89ec5560d486c092563ca168d6f923633b0086', '91b63c763dd90fe17ef3b8d40e21badaecfb3f715009e24c237bc51d658e7611', '5abff00c28a3f309d13738779a878490f0152be63e95d03a143d97c364b77fa4', '168d634e7f2ecd0f1508d067e5d994455c7504f0095a38bf5afbae922b7ddf86', '23acf8bbf14f4b7202988a2d4ecf831a533a35167e4753fc3f2e4e637798ebad']\n",
            "5\n",
            "End of the  program\n"
          ]
        }
      ]
    }
  ]
}