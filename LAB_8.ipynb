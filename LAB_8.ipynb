{
  "nbformat": 4,
  "nbformat_minor": 0,
  "metadata": {
    "colab": {
      "name": "LAB-8",
      "provenance": [],
      "collapsed_sections": [],
      "include_colab_link": true
    },
    "kernelspec": {
      "name": "python3",
      "display_name": "Python 3"
    },
    "language_info": {
      "name": "python"
    }
  },
  "cells": [
    {
      "cell_type": "markdown",
      "metadata": {
        "id": "view-in-github",
        "colab_type": "text"
      },
      "source": [
        "<a href=\"https://colab.research.google.com/github/nishantraj123/Blockchain-for-Business-Lab/blob/main/LAB_8.ipynb\" target=\"_parent\"><img src=\"https://colab.research.google.com/assets/colab-badge.svg\" alt=\"Open In Colab\"/></a>"
      ]
    },
    {
      "cell_type": "markdown",
      "source": [
        "**file handling, encryption and descryption**"
      ],
      "metadata": {
        "id": "8tTzzO4OD1rX"
      }
    },
    {
      "cell_type": "code",
      "source": [
        "def encrypt(text,s):\n",
        "    result = \"\"\n",
        "    for i in range(len(text)):\n",
        "        char = text[i]\n",
        "        if (char.isupper()):\n",
        "            result += chr((ord(char) + s-65) % 26 + 65)\n",
        "        else:\n",
        "            result += chr((ord(char) + s - 97) % 26 + 97)\n",
        " \n",
        "    return result\n",
        "text = \"Nishant Raj\"\n",
        "s = 4\n",
        "print (\"Text  : \" + text)\n",
        "print (\"Cipher: \" + encrypt(text,s))"
      ],
      "metadata": {
        "colab": {
          "base_uri": "https://localhost:8080/"
        },
        "id": "1ubq3-qxJRi7",
        "outputId": "19bbc530-fa27-4987-8735-49313a2b4c07"
      },
      "execution_count": 2,
      "outputs": [
        {
          "output_type": "stream",
          "name": "stdout",
          "text": [
            "Text  : Nishant Raj\n",
            "Cipher: RmwlerxrVen\n"
          ]
        }
      ]
    },
    {
      "cell_type": "markdown",
      "source": [
        "Entering Data and storing in a file"
      ],
      "metadata": {
        "id": "z4qgBQsxH7gK"
      }
    },
    {
      "cell_type": "code",
      "source": [
        "f= open(\"file.txt\",\"w\")\n",
        "s= str(input(\"Enter message:\"))\n",
        "f.write(s)\n",
        "f.close()\n",
        "f= open(\"file.txt\",\"r\")\n",
        "filecontent=f.read()\n",
        "print(filecontent)\n",
        "f.close()\n"
      ],
      "metadata": {
        "colab": {
          "base_uri": "https://localhost:8080/"
        },
        "id": "6xySAqCKH2eD",
        "outputId": "840fd32e-2506-4f45-a72d-7ef1d665e8ae"
      },
      "execution_count": 3,
      "outputs": [
        {
          "output_type": "stream",
          "name": "stdout",
          "text": [
            "Enter message:My name is Nishant Raj\n",
            "My name is Nishant Raj\n"
          ]
        }
      ]
    },
    {
      "cell_type": "markdown",
      "source": [
        "Encrypting file's Data by Data=ASCII(Data)-1"
      ],
      "metadata": {
        "id": "ilHZSdSwIYBw"
      }
    },
    {
      "cell_type": "code",
      "source": [
        "st= \"\"\n",
        "f= open(\"file.txt\",\"r\")\n",
        "filecontent=f.read()\n",
        "ls= filecontent.split()\n",
        "for x in ls:\n",
        " for y in x:\n",
        "   a=ord(y)\n",
        "   if(a>97 and a<=122):\n",
        "     a-=1\n",
        "   elif(a==97):\n",
        "     a=122\n",
        "   st= st+chr(a)\n",
        " st=st+\" \"\n",
        "f.close()\n",
        "f= open(\"file.txt\",\"w\")\n",
        "f.write(st)\n",
        "f.close()\n",
        "f= open(\"file.txt\",\"r\")\n",
        "filecontent=f.read()\n",
        "print(filecontent)\n",
        "f.close()\n"
      ],
      "metadata": {
        "colab": {
          "base_uri": "https://localhost:8080/"
        },
        "id": "WrHEBlvEIbHw",
        "outputId": "e7cb8780-ad3b-4eb0-85a2-7c75c0370763"
      },
      "execution_count": 4,
      "outputs": [
        {
          "output_type": "stream",
          "name": "stdout",
          "text": [
            "Mx mzld hr Nhrgzms Rzi \n"
          ]
        }
      ]
    },
    {
      "cell_type": "markdown",
      "source": [
        "Decrypting data by Data=ASCII(Data)+1"
      ],
      "metadata": {
        "id": "2g6vzzRXKJTg"
      }
    },
    {
      "cell_type": "code",
      "source": [
        "st=\"\"\n",
        "f= open(\"file.txt\",\"r\")\n",
        "filecontent=f.read()\n",
        "ls= filecontent.split()\n",
        "for x in ls:\n",
        " for y in x:\n",
        "   a=ord(y)\n",
        "   if(a>=97 and a<122):\n",
        "     a+=1\n",
        "   elif(a==122):\n",
        "     a=97\n",
        "   st= st+chr(a)\n",
        " st=st+\" \"\n",
        "f.close()\n",
        "f= open(\"file.txt\",\"w\")\n",
        "f.write(st)\n",
        "f.close()\n",
        "f= open(\"file.txt\",\"r\")\n",
        "filecontent=f.read()\n",
        "print(filecontent)\n",
        "f.close()\n"
      ],
      "metadata": {
        "colab": {
          "base_uri": "https://localhost:8080/"
        },
        "id": "j5jAQSqcKMD2",
        "outputId": "348d84d9-c66e-4089-b739-2e0340d4a475"
      },
      "execution_count": 5,
      "outputs": [
        {
          "output_type": "stream",
          "name": "stdout",
          "text": [
            "My name is Nishant Raj \n"
          ]
        }
      ]
    }
  ]
}