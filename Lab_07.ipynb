{
  "nbformat": 4,
  "nbformat_minor": 0,
  "metadata": {
    "colab": {
      "name": "Lab_07.ipynb",
      "provenance": [],
      "include_colab_link": true
    },
    "kernelspec": {
      "name": "python3",
      "display_name": "Python 3"
    },
    "language_info": {
      "name": "python"
    }
  },
  "cells": [
    {
      "cell_type": "markdown",
      "metadata": {
        "id": "view-in-github",
        "colab_type": "text"
      },
      "source": [
        "<a href=\"https://colab.research.google.com/github/nishantraj123/Blockchain-for-Business-Lab/blob/main/Lab_07.ipynb\" target=\"_parent\"><img src=\"https://colab.research.google.com/assets/colab-badge.svg\" alt=\"Open In Colab\"/></a>"
      ]
    },
    {
      "cell_type": "code",
      "source": [
        "import hashlib"
      ],
      "metadata": {
        "id": "p8KkAy5vEPn7"
      },
      "execution_count": null,
      "outputs": []
    },
    {
      "cell_type": "code",
      "execution_count": null,
      "metadata": {
        "colab": {
          "base_uri": "https://localhost:8080/"
        },
        "id": "APgVOULfEOAa",
        "outputId": "a489a3fb-0740-4903-d569-4f4738a0f872"
      },
      "outputs": [
        {
          "output_type": "stream",
          "name": "stdout",
          "text": [
            "f380aeb873e7025299c1336dc996416c1d0c3ef64f68be1fd53ccbec60983340\n"
          ]
        }
      ],
      "source": [
        "msg=\"Hello I am in UPES\"\n",
        "hm=hashlib.sha256(msg.encode()).hexdigest()\n",
        "print(hm)"
      ]
    },
    {
      "cell_type": "code",
      "source": [
        "from getpass import getpass\n",
        "dict = {}\n",
        "while(1):\n",
        "  print(\"MENU:\")\n",
        "  print(\"1.Register\")\n",
        "  print(\"2.Login\")\n",
        "  print(\"3.Exit\")\n",
        "  n = int(input(\"Select option:\"))\n",
        "  if(n==1):\n",
        "   print(\"Register below:\")\n",
        "   us = str(input(\"Enter username:\"))\n",
        "   if us in dict.keys():\n",
        "    print(\"User already Exists\")\n",
        "   else:\n",
        "    pas = str(getpass(\"Enter password:\"))\n",
        "    pas = hashlib.sha256(pas.encode()).hexdigest()\n",
        "    dict.update({us:pas})\n",
        "    print(\"Registration successful\")\n",
        "  elif(n==2):\n",
        "   print(\"Login below:\")\n",
        "   id = str(input(\"Enter Username:\"))\n",
        "   if id in dict.keys():\n",
        "     pa = str(getpass(\"Enter password:\"))\n",
        "     pa = hashlib.sha256(pa.encode()).hexdigest()\n",
        "     if(pa==dict[id]):\n",
        "       print(\"Login successful\")\n",
        "     else:\n",
        "       print(\"Wrong password\")\n",
        "   else:\n",
        "     print(\"No such Users\")\n",
        "  elif(n==3):\n",
        "    print(\"Exit successfull\")\n",
        "    break;\n",
        "  else:\n",
        "   print(\"Enter correct value\")"
      ],
      "metadata": {
        "colab": {
          "base_uri": "https://localhost:8080/",
          "height": 512
        },
        "id": "KuSdkanFEUhQ",
        "outputId": "3c562818-ff6d-489f-ecc7-031f5872a237"
      },
      "execution_count": 5,
      "outputs": [
        {
          "name": "stdout",
          "output_type": "stream",
          "text": [
            "MENU:\n",
            "1.Register\n",
            "2.Login\n",
            "3.Exit\n",
            "Select option:2\n",
            "Login below:\n",
            "Enter Username:nishant\n",
            "No such Users\n",
            "MENU:\n",
            "1.Register\n",
            "2.Login\n",
            "3.Exit\n",
            "Select option:1\n",
            "Register below:\n",
            "Enter username:sidhant\n",
            "Enter password:··········\n"
          ]
        },
        {
          "output_type": "error",
          "ename": "NameError",
          "evalue": "ignored",
          "traceback": [
            "\u001b[0;31m---------------------------------------------------------------------------\u001b[0m",
            "\u001b[0;31mNameError\u001b[0m                                 Traceback (most recent call last)",
            "\u001b[0;32m<ipython-input-5-72652cb39ec9>\u001b[0m in \u001b[0;36m<module>\u001b[0;34m()\u001b[0m\n\u001b[1;32m     14\u001b[0m    \u001b[0;32melse\u001b[0m\u001b[0;34m:\u001b[0m\u001b[0;34m\u001b[0m\u001b[0;34m\u001b[0m\u001b[0m\n\u001b[1;32m     15\u001b[0m     \u001b[0mpas\u001b[0m \u001b[0;34m=\u001b[0m \u001b[0mstr\u001b[0m\u001b[0;34m(\u001b[0m\u001b[0mgetpass\u001b[0m\u001b[0;34m(\u001b[0m\u001b[0;34m\"Enter password:\"\u001b[0m\u001b[0;34m)\u001b[0m\u001b[0;34m)\u001b[0m\u001b[0;34m\u001b[0m\u001b[0;34m\u001b[0m\u001b[0m\n\u001b[0;32m---> 16\u001b[0;31m     \u001b[0mpas\u001b[0m \u001b[0;34m=\u001b[0m \u001b[0mhashlib\u001b[0m\u001b[0;34m.\u001b[0m\u001b[0msha256\u001b[0m\u001b[0;34m(\u001b[0m\u001b[0mpas\u001b[0m\u001b[0;34m.\u001b[0m\u001b[0mencode\u001b[0m\u001b[0;34m(\u001b[0m\u001b[0;34m)\u001b[0m\u001b[0;34m)\u001b[0m\u001b[0;34m.\u001b[0m\u001b[0mhexdigest\u001b[0m\u001b[0;34m(\u001b[0m\u001b[0;34m)\u001b[0m\u001b[0;34m\u001b[0m\u001b[0;34m\u001b[0m\u001b[0m\n\u001b[0m\u001b[1;32m     17\u001b[0m     \u001b[0mdict\u001b[0m\u001b[0;34m.\u001b[0m\u001b[0mupdate\u001b[0m\u001b[0;34m(\u001b[0m\u001b[0;34m{\u001b[0m\u001b[0mus\u001b[0m\u001b[0;34m:\u001b[0m\u001b[0mpas\u001b[0m\u001b[0;34m}\u001b[0m\u001b[0;34m)\u001b[0m\u001b[0;34m\u001b[0m\u001b[0;34m\u001b[0m\u001b[0m\n\u001b[1;32m     18\u001b[0m     \u001b[0mprint\u001b[0m\u001b[0;34m(\u001b[0m\u001b[0;34m\"Registration successful\"\u001b[0m\u001b[0;34m)\u001b[0m\u001b[0;34m\u001b[0m\u001b[0;34m\u001b[0m\u001b[0m\n",
            "\u001b[0;31mNameError\u001b[0m: name 'hashlib' is not defined"
          ]
        }
      ]
    },
    {
      "cell_type": "code",
      "source": [
        "str = \"It's just a string\"\n",
        "msg = str.encode()\n",
        "msg = hashlib.sha256(msg)\n",
        "print(msg.hexdigest())\n"
      ],
      "metadata": {
        "colab": {
          "base_uri": "https://localhost:8080/"
        },
        "id": "uZCKYPGdGYLl",
        "outputId": "7f466c21-7275-4aa6-a286-d95cede2f351"
      },
      "execution_count": null,
      "outputs": [
        {
          "output_type": "stream",
          "name": "stdout",
          "text": [
            "20037eb025f063583a75ba44bf9af71ffc82378a229bb5aa1e4a486567f50a1f\n"
          ]
        }
      ]
    },
    {
      "cell_type": "code",
      "source": [
        "print(hashlib.algorithms_available)"
      ],
      "metadata": {
        "colab": {
          "base_uri": "https://localhost:8080/"
        },
        "id": "oZTF70m8GcZM",
        "outputId": "346c4ff9-a4e4-4c67-de5e-3415c23ff1d7"
      },
      "execution_count": null,
      "outputs": [
        {
          "output_type": "stream",
          "name": "stdout",
          "text": [
            "{'shake_128', 'shake_256', 'sha256', 'sha224', 'blake2b', 'blake2s', 'sha3_512', 'sha384', 'sha3_224', 'sha1', 'sha3_256', 'sha3_384', 'md5', 'sha512'}\n"
          ]
        }
      ]
    },
    {
      "cell_type": "code",
      "source": [
        "msg=\"hello, I am Shivani\"\n",
        "hm=hashlib.sha256(msg.encode())\n",
        "\n",
        "print(hm.hexdigest())"
      ],
      "metadata": {
        "colab": {
          "base_uri": "https://localhost:8080/"
        },
        "id": "GZ-Iovf-GgP4",
        "outputId": "d4780e1b-c66a-499d-f975-78e0e91d1c8a"
      },
      "execution_count": null,
      "outputs": [
        {
          "output_type": "stream",
          "name": "stdout",
          "text": [
            "e82079ba42d3ebd25fdc086d26e8222b1c6d1b46a993e10ad606c910b1c7cc48\n"
          ]
        }
      ]
    },
    {
      "cell_type": "code",
      "source": [
        "msg=b\"hello, I am Shivani\"\n",
        "hm=hashlib.sha224()\n",
        "\n",
        "print(hm)"
      ],
      "metadata": {
        "colab": {
          "base_uri": "https://localhost:8080/"
        },
        "id": "k3QkSKXrGj03",
        "outputId": "53a9727b-3a75-4ddf-d2f7-f56fe244548a"
      },
      "execution_count": null,
      "outputs": [
        {
          "output_type": "stream",
          "name": "stdout",
          "text": [
            "<sha224 HASH object @ 0x7fa6ababa1e0>\n"
          ]
        }
      ]
    }
  ]
}