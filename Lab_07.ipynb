{
  "nbformat": 4,
  "nbformat_minor": 0,
  "metadata": {
    "colab": {
      "name": "Lab_07.ipynb",
      "provenance": [],
      "include_colab_link": true
    },
    "kernelspec": {
      "name": "python3",
      "display_name": "Python 3"
    },
    "language_info": {
      "name": "python"
    }
  },
  "cells": [
    {
      "cell_type": "markdown",
      "metadata": {
        "id": "view-in-github",
        "colab_type": "text"
      },
      "source": [
        "<a href=\"https://colab.research.google.com/github/nishantraj123/Blockchain-for-Business-Lab/blob/main/Lab_07.ipynb\" target=\"_parent\"><img src=\"https://colab.research.google.com/assets/colab-badge.svg\" alt=\"Open In Colab\"/></a>"
      ]
    },
    {
      "cell_type": "code",
      "source": [
        "import hashlib"
      ],
      "metadata": {
        "id": "p8KkAy5vEPn7"
      },
      "execution_count": 16,
      "outputs": []
    },
    {
      "cell_type": "code",
      "execution_count": 17,
      "metadata": {
        "colab": {
          "base_uri": "https://localhost:8080/"
        },
        "id": "APgVOULfEOAa",
        "outputId": "d7c5a2ac-5800-4db4-9c53-a4ee1898f479"
      },
      "outputs": [
        {
          "output_type": "stream",
          "name": "stdout",
          "text": [
            "f380aeb873e7025299c1336dc996416c1d0c3ef64f68be1fd53ccbec60983340\n"
          ]
        }
      ],
      "source": [
        "msg=\"Hello I am in UPES\"\n",
        "hm=hashlib.sha256(msg.encode()).hexdigest()\n",
        "print(hm)"
      ]
    },
    {
      "cell_type": "code",
      "source": [
        "from getpass import getpass\n",
        "dict = {}\n",
        "while(1):\n",
        "  print(\"MENU:\")\n",
        "  print(\"1.Register\")\n",
        "  print(\"2.Login\")\n",
        "  print(\"3.Exit\")\n",
        "  n = int(input(\"Select option:\"))\n",
        "  if(n==1):\n",
        "   print(\"Register below:\")\n",
        "   us = str(input(\"Enter username:\"))\n",
        "   if us in dict.keys():\n",
        "    print(\"User already Exists\")\n",
        "   else:\n",
        "    pas = str(getpass(\"Enter password:\"))\n",
        "    pas = hashlib.sha256(pas.encode()).hexdigest()\n",
        "    dict.update({us:pas})\n",
        "    print(\"Registration successful\")\n",
        "  elif(n==2):\n",
        "   print(\"Login below:\")\n",
        "   id = str(input(\"Enter Username:\"))\n",
        "   if id in dict.keys():\n",
        "     pa = str(getpass(\"Enter password:\"))\n",
        "     pa = hashlib.sha256(pa.encode()).hexdigest()\n",
        "     if(pa==dict[id]):\n",
        "       print(\"Login successful\")\n",
        "     else:\n",
        "       print(\"Wrong password\")\n",
        "   else:\n",
        "     print(\"No such Users\")\n",
        "  elif(n==3):\n",
        "    print(\"Exit successfull\")\n",
        "    break;\n",
        "  else:\n",
        "   print(\"Enter correct value\")"
      ],
      "metadata": {
        "colab": {
          "base_uri": "https://localhost:8080/"
        },
        "id": "KuSdkanFEUhQ",
        "outputId": "c2dedd52-8159-4402-d5be-9e6ad746a801"
      },
      "execution_count": 18,
      "outputs": [
        {
          "output_type": "stream",
          "name": "stdout",
          "text": [
            "MENU:\n",
            "1.Register\n",
            "2.Login\n",
            "3.Exit\n",
            "Select option:1\n",
            "Register below:\n",
            "Enter username:nishant\n",
            "Enter password:··········\n",
            "Registration successful\n",
            "MENU:\n",
            "1.Register\n",
            "2.Login\n",
            "3.Exit\n",
            "Select option:2\n",
            "Login below:\n",
            "Enter Username:sidhant\n",
            "No such Users\n",
            "MENU:\n",
            "1.Register\n",
            "2.Login\n",
            "3.Exit\n",
            "Select option:3\n",
            "Exit successfull\n"
          ]
        }
      ]
    },
    {
      "cell_type": "code",
      "source": [
        "str = \"It's just a string\"\n",
        "msg = str.encode()\n",
        "msg = hashlib.sha256(msg)\n",
        "print(msg.hexdigest())\n"
      ],
      "metadata": {
        "colab": {
          "base_uri": "https://localhost:8080/"
        },
        "id": "uZCKYPGdGYLl",
        "outputId": "163ddbe3-5cfd-4a56-baa0-e1c3b8930ccf"
      },
      "execution_count": 19,
      "outputs": [
        {
          "output_type": "stream",
          "name": "stdout",
          "text": [
            "20037eb025f063583a75ba44bf9af71ffc82378a229bb5aa1e4a486567f50a1f\n"
          ]
        }
      ]
    },
    {
      "cell_type": "code",
      "source": [
        "print(hashlib.algorithms_available)"
      ],
      "metadata": {
        "colab": {
          "base_uri": "https://localhost:8080/"
        },
        "id": "oZTF70m8GcZM",
        "outputId": "d46b8da4-5131-4d6f-bf4a-395b4be49059"
      },
      "execution_count": 20,
      "outputs": [
        {
          "output_type": "stream",
          "name": "stdout",
          "text": [
            "{'sha1', 'sha256', 'sha3_384', 'shake_128', 'sha3_256', 'md5', 'sha3_224', 'sha3_512', 'blake2b', 'blake2s', 'sha384', 'sha512', 'sha224', 'shake_256'}\n"
          ]
        }
      ]
    },
    {
      "cell_type": "code",
      "source": [
        "msg=\"hello, I am Nishant\"\n",
        "hm=hashlib.sha256(msg.encode())\n",
        "\n",
        "print(hm.hexdigest())"
      ],
      "metadata": {
        "colab": {
          "base_uri": "https://localhost:8080/"
        },
        "id": "GZ-Iovf-GgP4",
        "outputId": "13240778-f368-4065-b97f-c7193dc5526d"
      },
      "execution_count": 21,
      "outputs": [
        {
          "output_type": "stream",
          "name": "stdout",
          "text": [
            "e419c29035aa100b9975f0369d293d8c1e1a9c9a3cdc7cb3f3b1bbb4588da7a8\n"
          ]
        }
      ]
    },
    {
      "cell_type": "code",
      "source": [
        "msg=b\"hello, I am Nishant\"\n",
        "hm=hashlib.sha224()\n",
        "\n",
        "print(hm)"
      ],
      "metadata": {
        "colab": {
          "base_uri": "https://localhost:8080/"
        },
        "id": "k3QkSKXrGj03",
        "outputId": "7acb9118-2871-4f30-b63d-79769f40e68a"
      },
      "execution_count": 22,
      "outputs": [
        {
          "output_type": "stream",
          "name": "stdout",
          "text": [
            "<sha224 HASH object @ 0x7fd874251750>\n"
          ]
        }
      ]
    }
  ]
}