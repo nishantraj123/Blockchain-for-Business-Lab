{
  "nbformat": 4,
  "nbformat_minor": 0,
  "metadata": {
    "colab": {
      "name": "Lab-10",
      "provenance": [],
      "include_colab_link": true
    },
    "kernelspec": {
      "name": "python3",
      "display_name": "Python 3"
    },
    "language_info": {
      "name": "python"
    }
  },
  "cells": [
    {
      "cell_type": "markdown",
      "metadata": {
        "id": "view-in-github",
        "colab_type": "text"
      },
      "source": [
        "<a href=\"https://colab.research.google.com/github/nishantraj123/Blockchain-for-Business-Lab/blob/main/Lab_10.ipynb\" target=\"_parent\"><img src=\"https://colab.research.google.com/assets/colab-badge.svg\" alt=\"Open In Colab\"/></a>"
      ]
    },
    {
      "cell_type": "markdown",
      "source": [
        "EXPERIMENT 9"
      ],
      "metadata": {
        "id": "3bMQgnSn6z7t"
      }
    },
    {
      "cell_type": "markdown",
      "source": [
        "Creating folder name folder\n"
      ],
      "metadata": {
        "id": "yur_8PcuCUzu"
      }
    },
    {
      "cell_type": "code",
      "execution_count": null,
      "metadata": {
        "id": "dr4HLvz3BQMu"
      },
      "outputs": [],
      "source": [
        "import hashlib\n",
        "import os\n",
        "os.mkdir('Folder')"
      ]
    },
    {
      "cell_type": "markdown",
      "source": [
        "Creating Different Text files with some having Duplicate Data"
      ],
      "metadata": {
        "id": "8nOJsjc0L0jD"
      }
    },
    {
      "cell_type": "code",
      "source": [
        "for i in range(1,6):\n",
        " f= open(\"Folder/file\"+str(i)+\".txt\",\"w\")\n",
        " s = input(\"Enter any value: \")\n",
        " f.write(s)\n",
        " f.close()\n"
      ],
      "metadata": {
        "colab": {
          "base_uri": "https://localhost:8080/"
        },
        "id": "NFTaCXvGL3Xk",
        "outputId": "57d3ab7c-c401-4c7e-a049-7ebddcd79ac8"
      },
      "execution_count": 16,
      "outputs": [
        {
          "name": "stdout",
          "output_type": "stream",
          "text": [
            "Enter any value: Nishant\n",
            "Enter any value: Raj\n",
            "Enter any value: Dehri on Sone\n",
            "Enter any value: UPES\n",
            "Enter any value: DEHRADUN\n"
          ]
        }
      ]
    },
    {
      "cell_type": "markdown",
      "source": [
        "Creating list containing Hash of each file"
      ],
      "metadata": {
        "id": "5JN-XBJcMN8H"
      }
    },
    {
      "cell_type": "code",
      "source": [
        "ls = list()\n",
        "for i in range(1,6):\n",
        " f= open(\"Folder/file\"+str(i)+\".txt\",\"r\")\n",
        " msg=f.read()\n",
        " hm=hashlib.sha256(msg.encode()).hexdigest()\n",
        " ls.append(str(hm))\n",
        " f.close()"
      ],
      "metadata": {
        "id": "_t7rxkavMQM0"
      },
      "execution_count": null,
      "outputs": []
    },
    {
      "cell_type": "markdown",
      "source": [
        "Creating list of files having duplicate values\n"
      ],
      "metadata": {
        "id": "7F1GYRI9MUKc"
      }
    },
    {
      "cell_type": "code",
      "source": [
        "ls2= set()\n",
        "for i in range(0,5):\n",
        "  for j in range(i+1,5):\n",
        "    if (ls[i]==ls[j]):\n",
        "      ls2.add(\"file\"+str(i+1))\n",
        "      ls2.add(\"file\"+str(j+1))"
      ],
      "metadata": {
        "id": "fKHZXuTzMWtL"
      },
      "execution_count": null,
      "outputs": []
    },
    {
      "cell_type": "markdown",
      "source": [
        "Classifying different Duplicate files\n"
      ],
      "metadata": {
        "id": "Hxvw0HugMgcw"
      }
    },
    {
      "cell_type": "code",
      "source": [
        "ls3 = list(ls2)\n",
        "while(len(ls3)!=0):\n",
        " flag=0\n",
        " print(ls3[0],end=\",\")\n",
        " for j in range(1,len(ls3)):\n",
        "   if(flag):\n",
        "     j-=1\n",
        "   f= open(\"Folder/\"+ls3[0]+\".txt\",\"r\")\n",
        "   r=f.read()\n",
        "   f1= open(\"Folder/\"+ls3[j]+\".txt\",\"r\")\n",
        "   r1=f1.read()\n",
        "   hm=hashlib.sha256(r.encode()).hexdigest()\n",
        "   hm1=hashlib.sha256(r1.encode()).hexdigest()\n",
        "   if(hm==hm1):\n",
        "     print(ls3[j],end=\",\")\n",
        "     ls3.remove(ls3[j])\n",
        "     flag=1\n",
        "   else:\n",
        "     flag=0\n",
        " ls3.remove(ls3[0])\n",
        " print()\n"
      ],
      "metadata": {
        "colab": {
          "base_uri": "https://localhost:8080/"
        },
        "id": "1fq68L3fMi--",
        "outputId": "030ba666-2973-48a4-eb8c-2566bb845446"
      },
      "execution_count": null,
      "outputs": [
        {
          "output_type": "stream",
          "name": "stdout",
          "text": [
            "file5,file3,\n"
          ]
        }
      ]
    }
  ]
}