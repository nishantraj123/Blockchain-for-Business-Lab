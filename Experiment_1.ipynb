{
  "nbformat": 4,
  "nbformat_minor": 0,
  "metadata": {
    "colab": {
      "name": "Experiment-1.ipynb",
      "provenance": [],
      "collapsed_sections": [],
      "authorship_tag": "ABX9TyMKxDHtN07M5CAU8270mtHk",
      "include_colab_link": true
    },
    "kernelspec": {
      "name": "python3",
      "display_name": "Python 3"
    },
    "language_info": {
      "name": "python"
    }
  },
  "cells": [
    {
      "cell_type": "markdown",
      "metadata": {
        "id": "view-in-github",
        "colab_type": "text"
      },
      "source": [
        "<a href=\"https://colab.research.google.com/github/nishantraj123/Blockchain-for-Business-Lab/blob/main/Experiment_1.ipynb\" target=\"_parent\"><img src=\"https://colab.research.google.com/assets/colab-badge.svg\" alt=\"Open In Colab\"/></a>"
      ]
    },
    {
      "cell_type": "markdown",
      "source": [
        "**Experiment-1: Input & Output functions**\n"
      ],
      "metadata": {
        "id": "f8wDRK7j8HqF"
      }
    },
    {
      "cell_type": "markdown",
      "source": [
        "**1. Print the following : ‘ Brian’s mother : He’s not the messiah.**"
      ],
      "metadata": {
        "id": "NyVG4Uip85fR"
      }
    },
    {
      "cell_type": "code",
      "source": [
        "print('Brian’s mother : He’s not the messiah.\\nHe’s a very naughty boy ! ')"
      ],
      "metadata": {
        "colab": {
          "base_uri": "https://localhost:8080/"
        },
        "id": "nfos0-AJ8gBd",
        "outputId": "7dde6ad2-a104-4870-bf52-88f536865822"
      },
      "execution_count": 1,
      "outputs": [
        {
          "output_type": "stream",
          "name": "stdout",
          "text": [
            "Brian’s mother : He’s not the messiah.\n",
            "He’s a very naughty boy ! \n"
          ]
        }
      ]
    },
    {
      "cell_type": "markdown",
      "source": [
        "**2. Take two variable a and b. Assign your first name and last name. Print your Name after adding your First name and Last name together. Example output : George ( woody ) Washington.**"
      ],
      "metadata": {
        "id": "V2EYQOxl9Wu_"
      }
    },
    {
      "cell_type": "code",
      "source": [
        "a='Nishant'\n",
        "b = 'Raj'\n",
        "Name = a + \" \" + b\n",
        "print(Name)"
      ],
      "metadata": {
        "colab": {
          "base_uri": "https://localhost:8080/"
        },
        "id": "E9dnm03r9hH9",
        "outputId": "a64bf631-001a-4253-fd0f-1645c3969e59"
      },
      "execution_count": 2,
      "outputs": [
        {
          "output_type": "stream",
          "name": "stdout",
          "text": [
            "Nishant Raj\n"
          ]
        }
      ]
    },
    {
      "cell_type": "markdown",
      "source": [
        "**3. Print your name three times like** \n",
        "\n",
        "GeorgeGeorgeGeorge"
      ],
      "metadata": {
        "id": "vP7VfU4m9wdk"
      }
    },
    {
      "cell_type": "code",
      "source": [
        "print(\"Nishant Raj\"*3)"
      ],
      "metadata": {
        "colab": {
          "base_uri": "https://localhost:8080/"
        },
        "id": "N_AgqQ_494e9",
        "outputId": "1005fbbb-a8a6-4f44-c5c8-5f46be583c52"
      },
      "execution_count": 8,
      "outputs": [
        {
          "output_type": "stream",
          "name": "stdout",
          "text": [
            "Nishant RajNishant RajNishant Raj\n"
          ]
        }
      ]
    },
    {
      "cell_type": "markdown",
      "source": [
        "**4. Print your name three times like**\n",
        "\n",
        "George George George"
      ],
      "metadata": {
        "id": "mX48dNqJ-8h8"
      }
    },
    {
      "cell_type": "code",
      "source": [
        "print(\" Nishant Raj \" * 3)"
      ],
      "metadata": {
        "colab": {
          "base_uri": "https://localhost:8080/"
        },
        "id": "F5ygAiVY_8Fq",
        "outputId": "f09216ce-c225-4fd7-fc02-870e42c7fb9b"
      },
      "execution_count": 10,
      "outputs": [
        {
          "output_type": "stream",
          "name": "stdout",
          "text": [
            " Nishant Raj  Nishant Raj  Nishant Raj \n"
          ]
        }
      ]
    },
    {
      "cell_type": "markdown",
      "source": [
        "**5**. **Declare and assign values to the variables first name, last name, address, DOB,Programme, semester, SAP ID and print in the following way :**\n",
        "\n",
        "NAME : Mohit BANSAL\n",
        "\n",
        "SAP ID : 500069944\n",
        "\n",
        "DATE OF BIRTH : 13 Oct 1999\n",
        "\n",
        "ADDRESS : UPES\n",
        "\n",
        "Bidholi Campus\n",
        "\n",
        "Pincode : 248007\n",
        "\n",
        "Programme : BAO"
      ],
      "metadata": {
        "id": "Nv-nSxkZ-Bvn"
      }
    },
    {
      "cell_type": "code",
      "source": [
        "Name =  'Nishant Raj'\n",
        "SAPID = str('500070098')\n",
        "DateOfBirth = '21 Feb 2000'\n",
        "Address= 'UPES'\n",
        "Address2 = 'Bidholi Campus'\n",
        "Pincode = str('248007')\n",
        "Programme = 'BAO'\n",
        "\n",
        "print('NAME:' + Name + \" \" + '\\nSAPID : '+ SAPID + '\\nDATE OF BIRTH : '+DateOfBirth + '\\nAddress : '+Address + '\\n'+Address2 + '\\nPINCODE : '+ Pincode + '\\nProgramme : ' + Programme)\n"
      ],
      "metadata": {
        "colab": {
          "base_uri": "https://localhost:8080/"
        },
        "id": "wFewV4GE-a2f",
        "outputId": "62c9919f-1923-4d87-efbc-d06677bc82b3"
      },
      "execution_count": 5,
      "outputs": [
        {
          "output_type": "stream",
          "name": "stdout",
          "text": [
            "NAME:Nishant Raj \n",
            "SAPID : 500070098\n",
            "DATE OF BIRTH : 21 Feb 2000\n",
            "Address : UPES\n",
            "Bidholi Campus\n",
            "PINCODE : 248007\n",
            "Programme : BAO\n"
          ]
        }
      ]
    },
    {
      "cell_type": "markdown",
      "source": [
        "**6. Write a Python program to solve**\n",
        "\n",
        "(x+y)*(x+y)\n",
        "\n",
        "Test data : x = 4 , y = 3\n",
        "\n",
        "Expected output : (4+3)^2 = 49"
      ],
      "metadata": {
        "id": "kEWJ6UDDAW1i"
      }
    },
    {
      "cell_type": "code",
      "source": [
        "x = 4\n",
        "y = 3\n",
        "(x+y)**2"
      ],
      "metadata": {
        "colab": {
          "base_uri": "https://localhost:8080/"
        },
        "id": "3Kbv0NlbAhEn",
        "outputId": "150d81f0-7198-4331-f9d4-145a5600fa79"
      },
      "execution_count": 11,
      "outputs": [
        {
          "output_type": "execute_result",
          "data": {
            "text/plain": [
              "49"
            ]
          },
          "metadata": {},
          "execution_count": 11
        }
      ]
    },
    {
      "cell_type": "markdown",
      "source": [
        "**7. Write a program to find simple interest.**"
      ],
      "metadata": {
        "id": "5ZwyDpkpA39v"
      }
    },
    {
      "cell_type": "code",
      "source": [
        "P = 30\n",
        "R = 1\n",
        "T = 4\n",
        "Simple_interest = (P * R * T) / 100\n",
        "print(\"The simple interest is:\", Simple_interest)"
      ],
      "metadata": {
        "colab": {
          "base_uri": "https://localhost:8080/"
        },
        "id": "RGSuL82BBCjN",
        "outputId": "9ffaa338-d24e-4a5d-fb7d-adaa2fe3ac72"
      },
      "execution_count": 13,
      "outputs": [
        {
          "output_type": "stream",
          "name": "stdout",
          "text": [
            "The simple interest is: 1.2\n"
          ]
        }
      ]
    },
    {
      "cell_type": "markdown",
      "source": [
        "**8. Write a program to convert given seconds into hours, minutes and remaining seconds**"
      ],
      "metadata": {
        "id": "wkEcvq69BowS"
      }
    },
    {
      "cell_type": "code",
      "source": [
        "import time\n",
        "sec = 123455\n",
        "ty_res = time.gmtime(sec)\n",
        "res = time.strftime(\"%H:%M:%S\",ty_res)\n",
        "print(res)"
      ],
      "metadata": {
        "colab": {
          "base_uri": "https://localhost:8080/"
        },
        "id": "ZL2b1CsmBwEg",
        "outputId": "ee6f7bcd-89f7-4209-b441-ad2a0335c35d"
      },
      "execution_count": 14,
      "outputs": [
        {
          "output_type": "stream",
          "name": "stdout",
          "text": [
            "10:17:35\n"
          ]
        }
      ]
    },
    {
      "cell_type": "markdown",
      "source": [
        "**9. Write a program to swap two numbers without taking additional variable.**"
      ],
      "metadata": {
        "id": "rOfc_KJaCZMh"
      }
    },
    {
      "cell_type": "code",
      "source": [
        "a = int(input())\n",
        "b = int(input())\n",
        "a +=b\n",
        "b = a-b\n",
        "a = a-b\n",
        "print(\"a :\",a)\n",
        "print(\"b :\",b)"
      ],
      "metadata": {
        "colab": {
          "base_uri": "https://localhost:8080/"
        },
        "id": "FjoWyE0ECgCd",
        "outputId": "b3d17249-d7a5-4c4b-881d-bf54fc052664"
      },
      "execution_count": 16,
      "outputs": [
        {
          "output_type": "stream",
          "name": "stdout",
          "text": [
            "13\n",
            "56\n",
            "a : 56\n",
            "b : 13\n"
          ]
        }
      ]
    },
    {
      "cell_type": "markdown",
      "source": [
        "**10. Write a program to find sum of first n natural numbers.**"
      ],
      "metadata": {
        "id": "rBT-lfrTDFqJ"
      }
    },
    {
      "cell_type": "code",
      "source": [
        "n=int(input(\"Enter a number: \"))\n",
        "sum1 = 0\n",
        "while(n > 0):\n",
        "    sum1=sum1+n\n",
        "    n=n-1\n",
        "print(\"The sum of first n natural numbers is\",sum1)"
      ],
      "metadata": {
        "colab": {
          "base_uri": "https://localhost:8080/"
        },
        "id": "PBUjXR0wDMYg",
        "outputId": "4e8a2d56-4b3e-46cf-c573-59a6e2e59940"
      },
      "execution_count": 17,
      "outputs": [
        {
          "output_type": "stream",
          "name": "stdout",
          "text": [
            "Enter a number: 12\n",
            "The sum of first n natural numbers is 78\n"
          ]
        }
      ]
    }
  ]
}